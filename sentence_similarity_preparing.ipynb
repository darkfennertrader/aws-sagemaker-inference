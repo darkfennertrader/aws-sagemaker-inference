{
 "cells": [
  {
   "cell_type": "code",
   "execution_count": 1,
   "id": "9dbd2055",
   "metadata": {},
   "outputs": [
    {
     "name": "stdout",
     "output_type": "stream",
     "text": [
      "torch version: 1.7.1\n"
     ]
    }
   ],
   "source": [
    "!python -m pip install --quiet --upgrade pip\n",
    "import torch\n",
    "print(f\"torch version: {torch.__version__}\")"
   ]
  },
  {
   "cell_type": "code",
   "execution_count": 3,
   "id": "93eecc6c",
   "metadata": {},
   "outputs": [
    {
     "name": "stdout",
     "output_type": "stream",
     "text": [
      "4.11.3\n"
     ]
    }
   ],
   "source": [
    "!pip install --quiet -U transformers\n",
    "import transformers\n",
    "print(transformers.__version__)"
   ]
  },
  {
   "cell_type": "code",
   "execution_count": 7,
   "id": "4d0b6434",
   "metadata": {},
   "outputs": [],
   "source": [
    "from transformers import AutoConfig, AutoTokenizer, AutoModel"
   ]
  },
  {
   "cell_type": "code",
   "execution_count": 14,
   "id": "c9c2cd07",
   "metadata": {},
   "outputs": [],
   "source": [
    "save_dir = \"./model\"\n",
    "model_name_or_path = \"sentence-transformers/paraphrase-xlm-r-multilingual-v1\""
   ]
  },
  {
   "cell_type": "code",
   "execution_count": 15,
   "id": "4041e6ac",
   "metadata": {},
   "outputs": [],
   "source": [
    "config = AutoConfig.from_pretrained(model_name_or_path)\n",
    "tokenizer = AutoTokenizer.from_pretrained(model_name_or_path, config=config)\n",
    "\n",
    "model = AutoModel.from_pretrained(\n",
    "    model_name_or_path,\n",
    "    from_tf=False,\n",
    "    config=config,\n",
    ")"
   ]
  },
  {
   "cell_type": "code",
   "execution_count": 16,
   "id": "75fcb33f",
   "metadata": {},
   "outputs": [
    {
     "data": {
      "text/plain": [
       "('./model/tokenizer_config.json',\n",
       " './model/special_tokens_map.json',\n",
       " './model/tokenizer.json')"
      ]
     },
     "execution_count": 16,
     "metadata": {},
     "output_type": "execute_result"
    }
   ],
   "source": [
    "config.save_pretrained(save_dir)\n",
    "model.save_pretrained(save_dir)\n",
    "tokenizer.save_pretrained(save_dir)"
   ]
  },
  {
   "cell_type": "markdown",
   "id": "50874f1d",
   "metadata": {},
   "source": [
    "### Package the pre-trained model and upload it to S3 ###"
   ]
  },
  {
   "cell_type": "code",
   "execution_count": 11,
   "id": "197bfd54",
   "metadata": {},
   "outputs": [],
   "source": [
    "import os\n",
    "import boto3\n",
    "import sagemaker\n",
    "\n",
    "role = sagemaker.get_execution_role()\n",
    "sess = sagemaker.Session()"
   ]
  },
  {
   "cell_type": "code",
   "execution_count": 12,
   "id": "f141b7a3",
   "metadata": {},
   "outputs": [],
   "source": [
    "bucket = \"ai-inference-env\"\n",
    "prefix = \"sentence-similarity\""
   ]
  },
  {
   "cell_type": "code",
   "execution_count": 13,
   "id": "0105f0b5",
   "metadata": {},
   "outputs": [
    {
     "name": "stdout",
     "output_type": "stream",
     "text": [
      "total 1.1G\n",
      "-rw-rw-r-- 1 ec2-user ec2-user  774 Oct 23 14:28 config.json\n",
      "-rw-rw-r-- 1 ec2-user ec2-user  589 Oct 23 14:28 tokenizer_config.json\n",
      "-rw-rw-r-- 1 ec2-user ec2-user  150 Oct 23 14:28 special_tokens_map.json\n",
      "-rw-rw-r-- 1 ec2-user ec2-user 1.1G Oct 23 14:28 pytorch_model.bin\n",
      "-rw-rw-r-- 1 ec2-user ec2-user 8.7M Oct 23 14:28 tokenizer.json\n"
     ]
    }
   ],
   "source": [
    "!ls -rtlh ./model/"
   ]
  },
  {
   "cell_type": "code",
   "execution_count": 17,
   "id": "b90ef7b4",
   "metadata": {},
   "outputs": [
    {
     "name": "stdout",
     "output_type": "stream",
     "text": [
      "config.json\n",
      "pytorch_model.bin\n",
      "special_tokens_map.json\n",
      "tokenizer_config.json\n",
      "tokenizer.json\n"
     ]
    }
   ],
   "source": [
    "!cd model && tar czvf ../model.tar.gz *"
   ]
  },
  {
   "cell_type": "code",
   "execution_count": 18,
   "id": "98c1f0f1",
   "metadata": {},
   "outputs": [
    {
     "name": "stdout",
     "output_type": "stream",
     "text": [
      "ai-inference-env/sentence-similarity/model.tar.gz\n"
     ]
    }
   ],
   "source": [
    "fObj = open(\"model.tar.gz\", \"rb\")\n",
    "key = os.path.join(prefix, \"model.tar.gz\")\n",
    "boto3.Session().resource(\"s3\").Bucket(bucket).Object(key).upload_fileobj(fObj)\n",
    "print(os.path.join(bucket, key))"
   ]
  }
 ],
 "metadata": {
  "kernelspec": {
   "display_name": "sagemaker",
   "language": "python",
   "name": "venv"
  },
  "language_info": {
   "codemirror_mode": {
    "name": "ipython",
    "version": 3
   },
   "file_extension": ".py",
   "mimetype": "text/x-python",
   "name": "python",
   "nbconvert_exporter": "python",
   "pygments_lexer": "ipython3",
   "version": "3.8.10"
  }
 },
 "nbformat": 4,
 "nbformat_minor": 5
}
