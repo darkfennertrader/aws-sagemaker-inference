{
 "cells": [
  {
   "cell_type": "code",
   "execution_count": 13,
   "id": "1ac4b265",
   "metadata": {},
   "outputs": [
    {
     "name": "stdout",
     "output_type": "stream",
     "text": [
      "torch version: 1.7.1\n"
     ]
    }
   ],
   "source": [
    "!python -m pip install --quiet --upgrade pip\n",
    "import torch\n",
    "print(f\"torch version: {torch.__version__}\")"
   ]
  },
  {
   "cell_type": "code",
   "execution_count": 14,
   "id": "03fc1875",
   "metadata": {},
   "outputs": [],
   "source": [
    "!pip install --quiet -U transformers"
   ]
  },
  {
   "cell_type": "markdown",
   "id": "9a802028",
   "metadata": {},
   "source": [
    "### Download Summarizer ### "
   ]
  },
  {
   "cell_type": "code",
   "execution_count": 1,
   "id": "658693b7",
   "metadata": {},
   "outputs": [],
   "source": [
    "from transformers import pipeline"
   ]
  },
  {
   "cell_type": "code",
   "execution_count": 2,
   "id": "eb7fb85e",
   "metadata": {},
   "outputs": [
    {
     "name": "stderr",
     "output_type": "stream",
     "text": [
      "No model was supplied, defaulted to sshleifer/distilbart-cnn-12-6 (https://huggingface.co/sshleifer/distilbart-cnn-12-6)\n"
     ]
    },
    {
     "data": {
      "application/vnd.jupyter.widget-view+json": {
       "model_id": "f7ac9c8d4f3149b0a2a61a27642a2f41",
       "version_major": 2,
       "version_minor": 0
      },
      "text/plain": [
       "Downloading:   0%|          | 0.00/1.76k [00:00<?, ?B/s]"
      ]
     },
     "metadata": {},
     "output_type": "display_data"
    },
    {
     "data": {
      "application/vnd.jupyter.widget-view+json": {
       "model_id": "5d429fb996fb461ebcce7d674dbc3a43",
       "version_major": 2,
       "version_minor": 0
      },
      "text/plain": [
       "Downloading:   0%|          | 0.00/1.14G [00:00<?, ?B/s]"
      ]
     },
     "metadata": {},
     "output_type": "display_data"
    },
    {
     "data": {
      "application/vnd.jupyter.widget-view+json": {
       "model_id": "4e2b101c0a8043d48853dabce0a58353",
       "version_major": 2,
       "version_minor": 0
      },
      "text/plain": [
       "Downloading:   0%|          | 0.00/26.0 [00:00<?, ?B/s]"
      ]
     },
     "metadata": {},
     "output_type": "display_data"
    },
    {
     "data": {
      "application/vnd.jupyter.widget-view+json": {
       "model_id": "fb2c3bee8ba04bb18e2806aedb62c252",
       "version_major": 2,
       "version_minor": 0
      },
      "text/plain": [
       "Downloading:   0%|          | 0.00/878k [00:00<?, ?B/s]"
      ]
     },
     "metadata": {},
     "output_type": "display_data"
    },
    {
     "data": {
      "application/vnd.jupyter.widget-view+json": {
       "model_id": "4e849dd09c32408aae96f4adb5f93b73",
       "version_major": 2,
       "version_minor": 0
      },
      "text/plain": [
       "Downloading:   0%|          | 0.00/446k [00:00<?, ?B/s]"
      ]
     },
     "metadata": {},
     "output_type": "display_data"
    }
   ],
   "source": [
    "summarizer = pipeline(\"summarization\")"
   ]
  },
  {
   "cell_type": "code",
   "execution_count": 3,
   "id": "a1e86218",
   "metadata": {},
   "outputs": [],
   "source": [
    "summarizer.save_pretrained(\"./model\")"
   ]
  },
  {
   "cell_type": "markdown",
   "id": "e19f52b2",
   "metadata": {},
   "source": [
    "### Package the pre-trained model and upload it to S3 ###"
   ]
  },
  {
   "cell_type": "code",
   "execution_count": 23,
   "id": "d005cd27",
   "metadata": {},
   "outputs": [],
   "source": [
    "import os\n",
    "import boto3\n",
    "import sagemaker\n",
    "\n",
    "role = sagemaker.get_execution_role()\n",
    "sess = sagemaker.Session()"
   ]
  },
  {
   "cell_type": "code",
   "execution_count": 24,
   "id": "20c38872",
   "metadata": {},
   "outputs": [],
   "source": [
    "bucket = \"ai-inference-env\"\n",
    "prefix = \"summarizer\""
   ]
  },
  {
   "cell_type": "code",
   "execution_count": 21,
   "id": "2bd85d52",
   "metadata": {},
   "outputs": [
    {
     "name": "stdout",
     "output_type": "stream",
     "text": [
      "total 1.2G\n",
      "-rw-rw-r-- 1 ec2-user ec2-user 1.9K Oct 19 03:14 config.json\n",
      "-rw-rw-r-- 1 ec2-user ec2-user 1.2K Oct 19 03:14 tokenizer_config.json\n",
      "-rw-rw-r-- 1 ec2-user ec2-user  772 Oct 19 03:14 special_tokens_map.json\n",
      "-rw-rw-r-- 1 ec2-user ec2-user 1.2G Oct 19 03:14 pytorch_model.bin\n",
      "-rw-rw-r-- 1 ec2-user ec2-user 780K Oct 19 03:14 vocab.json\n",
      "-rw-rw-r-- 1 ec2-user ec2-user 446K Oct 19 03:14 merges.txt\n",
      "-rw-rw-r-- 1 ec2-user ec2-user 1.3M Oct 19 03:14 tokenizer.json\n"
     ]
    }
   ],
   "source": [
    "!ls -rtlh ./model/"
   ]
  },
  {
   "cell_type": "code",
   "execution_count": 22,
   "id": "9e7add43",
   "metadata": {},
   "outputs": [
    {
     "name": "stdout",
     "output_type": "stream",
     "text": [
      "config.json\n",
      "merges.txt\n",
      "pytorch_model.bin\n",
      "special_tokens_map.json\n",
      "tokenizer_config.json\n",
      "tokenizer.json\n",
      "vocab.json\n"
     ]
    }
   ],
   "source": [
    "!cd model && tar czvf ../model.tar.gz *"
   ]
  },
  {
   "cell_type": "code",
   "execution_count": 25,
   "id": "8e941850",
   "metadata": {},
   "outputs": [
    {
     "name": "stdout",
     "output_type": "stream",
     "text": [
      "ai-inference-env/summarizer/model.tar.gz\n"
     ]
    }
   ],
   "source": [
    "fObj = open(\"model.tar.gz\", \"rb\")\n",
    "key = os.path.join(prefix, \"model.tar.gz\")\n",
    "boto3.Session().resource(\"s3\").Bucket(bucket).Object(key).upload_fileobj(fObj)\n",
    "print(os.path.join(bucket, key))"
   ]
  },
  {
   "cell_type": "code",
   "execution_count": null,
   "id": "abbdcfe8",
   "metadata": {},
   "outputs": [],
   "source": []
  }
 ],
 "metadata": {
  "kernelspec": {
   "display_name": "sagemaker",
   "language": "python",
   "name": "venv"
  },
  "language_info": {
   "codemirror_mode": {
    "name": "ipython",
    "version": 3
   },
   "file_extension": ".py",
   "mimetype": "text/x-python",
   "name": "python",
   "nbconvert_exporter": "python",
   "pygments_lexer": "ipython3",
   "version": "3.8.10"
  }
 },
 "nbformat": 4,
 "nbformat_minor": 5
}
